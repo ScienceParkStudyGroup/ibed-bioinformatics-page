{
  "cells": [
    {
      "cell_type": "markdown",
      "metadata": {},
      "source": [
        "<div style=\"text-align: justify\">\n",
        "\n",
        "## Installing software  {.unnumbered}\n",
        "\n",
        "A lot of bioinformatic workflows start with installing software. Since this often means not only installing the software but several dependencies, we recommend the use of a package management system, such as **conda** and **mamba**. These tools allow you to find and install packages in their own environment without administrator privileges. \n",
        "\n",
        "This is especially useful if you require different software versions, such as python3.6 versus python3.10, for different workflows. With package management systems you can easily setup different python versions in different environments.\n",
        "\n",
        "### Installing mamba\n",
        "\n",
        "A lot of system already come with conda installed, but we recommend working with mamba instead. mamba is a drop-in replacement and uses the same commands and configuration options as conda, however, it tends to be much faster than conda. A useful thing however is that if you find documentation for conda then you can swap almost all commands between conda & mamba.\n",
        "\n",
        "To install mamba, follow the instructions [here](https://github.com/conda-forge/miniforge). This should look something like this for mac and linux-systems. If you are on windows, the easiest is to setup up [Windows Subsystem for Linux (WSL)](https://learn.microsoft.com/en-us/windows/wsl/basic-commands#install) first.\n",
        "\n",
        "\n",
        "```{bash}\n",
        "curl -L -O \"https://github.com/conda-forge/miniforge/releases/latest/download/Miniforge3-$(uname)-$(uname -m).sh\"\n",
        "bash Miniforge3-$(uname)-$(uname -m).sh\n",
        "```\n",
        "\n",
        "\n",
        "\n",
        "### Setting up an environment\n",
        "\n",
        "Let's assume we want to install a tool, ITSx, into an environment called fungal_genomics. We can do this as follows:\n",
        "\n",
        "\n",
        "```{bash}\n",
        "#check if the tool is installed (should return command not found)\n",
        "ITSx -h\n",
        "\n",
        "#create an empty environment, name it\n",
        "mamba create -n fungal_genomics\n",
        "\n",
        "#install some software, i.e. itsx, into this environment\n",
        "mamba install -n fungal_genomics -c bioconda itsx\n",
        "\n",
        "#to run the tool activate the environment\n",
        "conda activate fungal_genomics\n",
        "\n",
        "#check for tool\n",
        "ITSx -h\n",
        "```\n",
        "\n",
        "\n",
        "A full set of mamba/conda commands can be found [here](https://docs.conda.io/projects/conda/en/latest/commands/index.html.)"
      ],
      "id": "d7bf8aca"
    }
  ],
  "metadata": {
    "kernelspec": {
      "display_name": "Python 3",
      "language": "python",
      "name": "python3"
    }
  },
  "nbformat": 4,
  "nbformat_minor": 5
}